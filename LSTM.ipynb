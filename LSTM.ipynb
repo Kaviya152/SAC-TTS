{
 "cells": [
  {
   "cell_type": "code",
   "execution_count": 4,
   "id": "cef91ff0-cebd-415b-8534-a09c83698287",
   "metadata": {},
   "outputs": [
    {
     "name": "stdout",
     "output_type": "stream",
     "text": [
      "Requirement already satisfied: tensorflow in c:\\users\\nkavi\\anaconda3\\lib\\site-packages (2.19.0)\n",
      "Requirement already satisfied: absl-py>=1.0.0 in c:\\users\\nkavi\\anaconda3\\lib\\site-packages (from tensorflow) (2.2.2)\n",
      "Requirement already satisfied: astunparse>=1.6.0 in c:\\users\\nkavi\\anaconda3\\lib\\site-packages (from tensorflow) (1.6.3)\n",
      "Requirement already satisfied: flatbuffers>=24.3.25 in c:\\users\\nkavi\\anaconda3\\lib\\site-packages (from tensorflow) (25.2.10)\n",
      "Requirement already satisfied: gast!=0.5.0,!=0.5.1,!=0.5.2,>=0.2.1 in c:\\users\\nkavi\\anaconda3\\lib\\site-packages (from tensorflow) (0.6.0)\n",
      "Requirement already satisfied: google-pasta>=0.1.1 in c:\\users\\nkavi\\anaconda3\\lib\\site-packages (from tensorflow) (0.2.0)\n",
      "Requirement already satisfied: libclang>=13.0.0 in c:\\users\\nkavi\\anaconda3\\lib\\site-packages (from tensorflow) (18.1.1)\n",
      "Requirement already satisfied: opt-einsum>=2.3.2 in c:\\users\\nkavi\\anaconda3\\lib\\site-packages (from tensorflow) (3.4.0)\n",
      "Requirement already satisfied: packaging in c:\\users\\nkavi\\anaconda3\\lib\\site-packages (from tensorflow) (24.1)\n",
      "Requirement already satisfied: protobuf!=4.21.0,!=4.21.1,!=4.21.2,!=4.21.3,!=4.21.4,!=4.21.5,<6.0.0dev,>=3.20.3 in c:\\users\\nkavi\\anaconda3\\lib\\site-packages (from tensorflow) (4.25.3)\n",
      "Requirement already satisfied: requests<3,>=2.21.0 in c:\\users\\nkavi\\anaconda3\\lib\\site-packages (from tensorflow) (2.32.3)\n",
      "Requirement already satisfied: setuptools in c:\\users\\nkavi\\anaconda3\\lib\\site-packages (from tensorflow) (75.1.0)\n",
      "Requirement already satisfied: six>=1.12.0 in c:\\users\\nkavi\\anaconda3\\lib\\site-packages (from tensorflow) (1.16.0)\n",
      "Requirement already satisfied: termcolor>=1.1.0 in c:\\users\\nkavi\\anaconda3\\lib\\site-packages (from tensorflow) (3.1.0)\n",
      "Requirement already satisfied: typing-extensions>=3.6.6 in c:\\users\\nkavi\\anaconda3\\lib\\site-packages (from tensorflow) (4.11.0)\n",
      "Requirement already satisfied: wrapt>=1.11.0 in c:\\users\\nkavi\\anaconda3\\lib\\site-packages (from tensorflow) (1.14.1)\n",
      "Requirement already satisfied: grpcio<2.0,>=1.24.3 in c:\\users\\nkavi\\anaconda3\\lib\\site-packages (from tensorflow) (1.71.0)\n",
      "Requirement already satisfied: tensorboard~=2.19.0 in c:\\users\\nkavi\\anaconda3\\lib\\site-packages (from tensorflow) (2.19.0)\n",
      "Requirement already satisfied: keras>=3.5.0 in c:\\users\\nkavi\\anaconda3\\lib\\site-packages (from tensorflow) (3.9.2)\n",
      "Requirement already satisfied: numpy<2.2.0,>=1.26.0 in c:\\users\\nkavi\\anaconda3\\lib\\site-packages (from tensorflow) (1.26.4)\n",
      "Requirement already satisfied: h5py>=3.11.0 in c:\\users\\nkavi\\anaconda3\\lib\\site-packages (from tensorflow) (3.11.0)\n",
      "Requirement already satisfied: ml-dtypes<1.0.0,>=0.5.1 in c:\\users\\nkavi\\anaconda3\\lib\\site-packages (from tensorflow) (0.5.1)\n",
      "Requirement already satisfied: wheel<1.0,>=0.23.0 in c:\\users\\nkavi\\anaconda3\\lib\\site-packages (from astunparse>=1.6.0->tensorflow) (0.44.0)\n",
      "Requirement already satisfied: rich in c:\\users\\nkavi\\anaconda3\\lib\\site-packages (from keras>=3.5.0->tensorflow) (13.7.1)\n",
      "Requirement already satisfied: namex in c:\\users\\nkavi\\anaconda3\\lib\\site-packages (from keras>=3.5.0->tensorflow) (0.0.9)\n",
      "Requirement already satisfied: optree in c:\\users\\nkavi\\anaconda3\\lib\\site-packages (from keras>=3.5.0->tensorflow) (0.15.0)\n",
      "Requirement already satisfied: charset-normalizer<4,>=2 in c:\\users\\nkavi\\anaconda3\\lib\\site-packages (from requests<3,>=2.21.0->tensorflow) (3.3.2)\n",
      "Requirement already satisfied: idna<4,>=2.5 in c:\\users\\nkavi\\anaconda3\\lib\\site-packages (from requests<3,>=2.21.0->tensorflow) (2.10)\n",
      "Requirement already satisfied: urllib3<3,>=1.21.1 in c:\\users\\nkavi\\anaconda3\\lib\\site-packages (from requests<3,>=2.21.0->tensorflow) (2.2.3)\n",
      "Requirement already satisfied: certifi>=2017.4.17 in c:\\users\\nkavi\\anaconda3\\lib\\site-packages (from requests<3,>=2.21.0->tensorflow) (2025.1.31)\n",
      "Requirement already satisfied: markdown>=2.6.8 in c:\\users\\nkavi\\anaconda3\\lib\\site-packages (from tensorboard~=2.19.0->tensorflow) (3.4.1)\n",
      "Requirement already satisfied: tensorboard-data-server<0.8.0,>=0.7.0 in c:\\users\\nkavi\\anaconda3\\lib\\site-packages (from tensorboard~=2.19.0->tensorflow) (0.7.2)\n",
      "Requirement already satisfied: werkzeug>=1.0.1 in c:\\users\\nkavi\\anaconda3\\lib\\site-packages (from tensorboard~=2.19.0->tensorflow) (3.0.3)\n",
      "Requirement already satisfied: MarkupSafe>=2.1.1 in c:\\users\\nkavi\\anaconda3\\lib\\site-packages (from werkzeug>=1.0.1->tensorboard~=2.19.0->tensorflow) (2.1.3)\n",
      "Requirement already satisfied: markdown-it-py>=2.2.0 in c:\\users\\nkavi\\anaconda3\\lib\\site-packages (from rich->keras>=3.5.0->tensorflow) (2.2.0)\n",
      "Requirement already satisfied: pygments<3.0.0,>=2.13.0 in c:\\users\\nkavi\\anaconda3\\lib\\site-packages (from rich->keras>=3.5.0->tensorflow) (2.15.1)\n",
      "Requirement already satisfied: mdurl~=0.1 in c:\\users\\nkavi\\anaconda3\\lib\\site-packages (from markdown-it-py>=2.2.0->rich->keras>=3.5.0->tensorflow) (0.1.0)\n",
      "Note: you may need to restart the kernel to use updated packages.\n"
     ]
    }
   ],
   "source": [
    "pip install tensorflow\n"
   ]
  },
  {
   "cell_type": "code",
   "execution_count": 5,
   "id": "c34646b1-e3c1-4905-95d4-39e74ff919d7",
   "metadata": {},
   "outputs": [
    {
     "name": "stdout",
     "output_type": "stream",
     "text": [
      "Requirement already satisfied: nltk in c:\\users\\nkavi\\anaconda3\\lib\\site-packages (3.9.1)\n",
      "Requirement already satisfied: click in c:\\users\\nkavi\\anaconda3\\lib\\site-packages (from nltk) (8.1.7)\n",
      "Requirement already satisfied: joblib in c:\\users\\nkavi\\anaconda3\\lib\\site-packages (from nltk) (1.4.2)\n",
      "Requirement already satisfied: regex>=2021.8.3 in c:\\users\\nkavi\\anaconda3\\lib\\site-packages (from nltk) (2024.9.11)\n",
      "Requirement already satisfied: tqdm in c:\\users\\nkavi\\anaconda3\\lib\\site-packages (from nltk) (4.66.5)\n",
      "Requirement already satisfied: colorama in c:\\users\\nkavi\\anaconda3\\lib\\site-packages (from click->nltk) (0.4.6)\n",
      "Note: you may need to restart the kernel to use updated packages.\n"
     ]
    }
   ],
   "source": [
    "pip install nltk"
   ]
  },
  {
   "cell_type": "code",
   "execution_count": 44,
   "id": "ede14b5a-c13c-4244-bc96-2b1213c013d4",
   "metadata": {},
   "outputs": [],
   "source": [
    "import os\n",
    "import pandas as pd\n",
    "import numpy as np\n",
    "import tensorflow as tf\n",
    "from tensorflow.keras.preprocessing.sequence import pad_sequences\n",
    "from tensorflow.keras.layers import Embedding, LSTM, Dense, Bidirectional\n",
    "from tensorflow.keras.preprocessing.text import Tokenizer\n",
    "from tensorflow.keras.models import Sequential\n",
    "from tensorflow.keras.optimizers import Adam\n",
    "import nltk\n",
    "import re"
   ]
  },
  {
   "cell_type": "code",
   "execution_count": 45,
   "id": "32cde9dc-db64-41cd-af84-4b96c6589277",
   "metadata": {},
   "outputs": [],
   "source": [
    "# Specify the filename\n",
    "input_file = 'holmes.txt'\n",
    "\n",
    "# Read the contents of the file\n",
    "with open(input_file, 'r', encoding='utf-8') as infile:\n",
    "    data = infile.read()"
   ]
  },
  {
   "cell_type": "code",
   "execution_count": 46,
   "id": "2ed67996-ceec-4718-b5b6-a04ccf51bf5a",
   "metadata": {},
   "outputs": [
    {
     "data": {
      "text/plain": [
       "\"*Project Gutenberg's Etext of Tom Swift And His Submarine Boat*\\n\\n#4 in the Victor Appleton's Tom Swi\""
      ]
     },
     "execution_count": 46,
     "metadata": {},
     "output_type": "execute_result"
    }
   ],
   "source": [
    "data[:100] # view first few characters"
   ]
  },
  {
   "cell_type": "code",
   "execution_count": 47,
   "id": "d118454c-d3ad-4e57-8368-111e64b1566c",
   "metadata": {},
   "outputs": [],
   "source": [
    "\n",
    "# Limit data to 500000 characters\n",
    "data = data[:700000]"
   ]
  },
  {
   "cell_type": "code",
   "execution_count": 50,
   "id": "0722f434-f081-4b56-9d59-d8436408b4bf",
   "metadata": {},
   "outputs": [],
   "source": [
    "# Function to remove emojis and special characters from text\n",
    "def remove_emojis_and_special_characters(text):\n",
    "    # Remove emojis\n",
    "    emoji_pattern = re.compile(\"[\"\n",
    "                               u\"\\U0001F600-\\U0001F64F\"  # emoticons\n",
    "                               u\"\\U0001F300-\\U0001F5FF\"  # symbols & pictographs\n",
    "                               u\"\\U0001F680-\\U0001F6FF\"  # transport & map symbols\n",
    "                               u\"\\U0001F700-\\U0001F77F\"  # alchemical symbols\n",
    "                               u\"\\U0001F780-\\U0001F7FF\"  # Geometric Shapes Extended\n",
    "                               u\"\\U0001F800-\\U0001F8FF\"  # Supplemental Arrows-C\n",
    "                               u\"\\U0001F900-\\U0001F9FF\"  # Supplemental Symbols and Pictographs\n",
    "                               u\"\\U0001FA00-\\U0001FA6F\"  # Chess Symbols\n",
    "                               u\"\\U0001FA70-\\U0001FAFF\"  # Symbols and Pictographs Extended-A\n",
    "                               u\"\\U00002702-\\U000027B0\"  # Dingbats\n",
    "                               u\"\\U000024C2-\\U0001F251\" \n",
    "                               \"]+\", flags=re.UNICODE)\n",
    "    \n",
    "    # Remove special characters\n",
    "    text = re.sub(r'[^a-zA-Z0-9\\s]', '', text)\n",
    "    \n",
    "    # Remove extra spaces\n",
    "    text = re.sub(' +', ' ', text)\n",
    "    \n",
    "    return text"
   ]
  },
  {
   "cell_type": "code",
   "execution_count": 49,
   "id": "bcf41d4d-6abb-40dd-a403-99235ec919be",
   "metadata": {},
   "outputs": [],
   "source": [
    "# Preprocessing pipeline\n",
    "def preprocess_pipeline(data) -> 'list':\n",
    "    # Split by newline character\n",
    "    sentences = data.split('\\n')\n",
    "    for i in range(len(sentences)):\n",
    "        sentences[i] = remove_emojis_and_special_characters(sentences[i])\n",
    "    # Remove leading and trailing spaces\n",
    "    sentences = [s.strip() for s in sentences]\n",
    "    # Drop empty sentences\n",
    "    sentences = [s for s in sentences if len(s) > 0]\n",
    "    # Tokenization\n",
    "    tokenized = []\n",
    "    for sentence in sentences:\n",
    "        # Convert to lowercase\n",
    "        sentence = sentence.lower()\n",
    "        tokenized.append(sentence)\n",
    "    return tokenized\n",
    "\n",
    "# Tokenize sentences\n",
    "tokenized_sentences = preprocess_pipeline(data)"
   ]
  },
  {
   "cell_type": "code",
   "execution_count": 51,
   "id": "eb50cd1c-ca5e-400a-94bf-ca2db9ac588f",
   "metadata": {},
   "outputs": [],
   "source": [
    "\"\"\"\n",
    "What is an OOV Token?\n",
    "An out-of-vocabulary (OOV) token is a special token used in natural language processing (NLP) tasks to represent words that\n",
    "are not present in the vocabulary of the model or tokenizer. When a word that is not in the vocabulary is encountered during\n",
    "tokenization or text processing, it is replaced with the OOV token.\n",
    "\n",
    "Why Use an OOV Token?\n",
    "Using an OOV token helps handle unseen or unknown words during the training or inference phase of an NLP model. \n",
    "Instead of encountering errors or issues when encountering unknown words, the model can gracefully handle them by\n",
    "representing them with the OOV token. This is particularly useful when working with real-world data where the vocabulary\n",
    "of the model may not cover all possible words.\n",
    "\"\"\"\n",
    "# Tokenize words\n",
    "tokenizer = Tokenizer(oov_token='<oov>')\n",
    "tokenizer.fit_on_texts(tokenized_sentences)\n",
    "total_words = len(tokenizer.word_index) + 1\n",
    "# tokenizer.word_counts\n",
    "# tokenizer.word_index\n",
    "\"\"\"\n",
    "n_gram example:\n",
    "[3, 15, 8, 7, 20, 12, 6]\n",
    "\n",
    "For the above sentece sentence, the code would generate the following n-gram sequences:\n",
    "\n",
    "[3, 15]\n",
    "[3, 15, 8]\n",
    "[3, 15, 8, 7]\n",
    "[3, 15, 8, 7, 20]\n",
    "[3, 15, 8, 7, 20, 12]\n",
    "[3, 15, 8, 7, 20, 12, 6]\n",
    "\"\"\"\n",
    "\n",
    "# Generate input sequences\n",
    "input_sequences = []\n",
    "for line in tokenized_sentences:\n",
    "    token_list = tokenizer.texts_to_sequences([line])[0]\n",
    "    for i in range(1, len(token_list)):\n",
    "        n_gram_sequence = token_list[:i + 1]\n",
    "        input_sequences.append(n_gram_sequence)\n",
    "\n",
    "# Pad sequences\n",
    "max_sequence_len = max([len(x) for x in input_sequences])\n",
    "input_sequences = np.array(pad_sequences(input_sequences, maxlen=max_sequence_len, padding='pre'))"
   ]
  },
  {
   "cell_type": "code",
   "execution_count": 52,
   "id": "6def5354-19f0-4ed0-8743-f789143be84f",
   "metadata": {},
   "outputs": [],
   "source": [
    "# Creates labels with input sequences\n",
    "X,labels = input_sequences[:,:-1],input_sequences[:,-1]\n",
    "ys = tf.keras.utils.to_categorical(labels, num_classes=total_words)"
   ]
  },
  {
   "cell_type": "code",
   "execution_count": 53,
   "id": "69780a6e-2963-4016-a4fa-5eb942c2e417",
   "metadata": {},
   "outputs": [],
   "source": [
    "# Split data into training, validation, and test sets\n",
    "from sklearn.model_selection import train_test_split\n",
    "X_train_temp, X_val_test, y_train_temp, y_val_test = train_test_split(X, ys, test_size=0.2, random_state=42)\n",
    "X_val, X_test, y_val, y_test = train_test_split(X_val_test, y_val_test, test_size=0.5, random_state=42)"
   ]
  },
  {
   "cell_type": "markdown",
   "id": "178ad205-e0a8-488c-a2a1-f901ee99569e",
   "metadata": {},
   "source": [
    "\n",
    "Train LSTM Model"
   ]
  },
  {
   "cell_type": "code",
   "execution_count": 54,
   "id": "82a00bca-2faa-4104-b2a0-f191916ea59f",
   "metadata": {},
   "outputs": [
    {
     "name": "stdout",
     "output_type": "stream",
     "text": [
      "Epoch 1/10\n",
      "\u001b[1m2774/2774\u001b[0m \u001b[32m━━━━━━━━━━━━━━━━━━━━\u001b[0m\u001b[37m\u001b[0m \u001b[1m145s\u001b[0m 50ms/step - accuracy: 0.0962 - loss: 6.3720 - val_accuracy: 0.1398 - val_loss: 5.7560\n",
      "Epoch 2/10\n",
      "\u001b[1m2774/2774\u001b[0m \u001b[32m━━━━━━━━━━━━━━━━━━━━\u001b[0m\u001b[37m\u001b[0m \u001b[1m130s\u001b[0m 47ms/step - accuracy: 0.1497 - loss: 5.2880 - val_accuracy: 0.1479 - val_loss: 5.7691\n",
      "Epoch 3/10\n",
      "\u001b[1m2774/2774\u001b[0m \u001b[32m━━━━━━━━━━━━━━━━━━━━\u001b[0m\u001b[37m\u001b[0m \u001b[1m137s\u001b[0m 49ms/step - accuracy: 0.1704 - loss: 4.8023 - val_accuracy: 0.1520 - val_loss: 5.9188\n",
      "Epoch 4/10\n",
      "\u001b[1m2774/2774\u001b[0m \u001b[32m━━━━━━━━━━━━━━━━━━━━\u001b[0m\u001b[37m\u001b[0m \u001b[1m134s\u001b[0m 48ms/step - accuracy: 0.1887 - loss: 4.4669 - val_accuracy: 0.1547 - val_loss: 6.1550\n",
      "Epoch 5/10\n",
      "\u001b[1m2774/2774\u001b[0m \u001b[32m━━━━━━━━━━━━━━━━━━━━\u001b[0m\u001b[37m\u001b[0m \u001b[1m132s\u001b[0m 48ms/step - accuracy: 0.1979 - loss: 4.2418 - val_accuracy: 0.1587 - val_loss: 6.4486\n",
      "Epoch 6/10\n",
      "\u001b[1m2774/2774\u001b[0m \u001b[32m━━━━━━━━━━━━━━━━━━━━\u001b[0m\u001b[37m\u001b[0m \u001b[1m134s\u001b[0m 48ms/step - accuracy: 0.2101 - loss: 4.1746 - val_accuracy: 0.1581 - val_loss: 6.7024\n",
      "Epoch 7/10\n",
      "\u001b[1m2774/2774\u001b[0m \u001b[32m━━━━━━━━━━━━━━━━━━━━\u001b[0m\u001b[37m\u001b[0m \u001b[1m120s\u001b[0m 43ms/step - accuracy: 0.2199 - loss: 4.0152 - val_accuracy: 0.1510 - val_loss: 6.9681\n",
      "Epoch 8/10\n",
      "\u001b[1m2774/2774\u001b[0m \u001b[32m━━━━━━━━━━━━━━━━━━━━\u001b[0m\u001b[37m\u001b[0m \u001b[1m131s\u001b[0m 47ms/step - accuracy: 0.2198 - loss: 3.9562 - val_accuracy: 0.1547 - val_loss: 7.0966\n",
      "Epoch 9/10\n",
      "\u001b[1m2774/2774\u001b[0m \u001b[32m━━━━━━━━━━━━━━━━━━━━\u001b[0m\u001b[37m\u001b[0m \u001b[1m134s\u001b[0m 48ms/step - accuracy: 0.2283 - loss: 3.8835 - val_accuracy: 0.1556 - val_loss: 7.3306\n",
      "Epoch 10/10\n",
      "\u001b[1m2774/2774\u001b[0m \u001b[32m━━━━━━━━━━━━━━━━━━━━\u001b[0m\u001b[37m\u001b[0m \u001b[1m128s\u001b[0m 46ms/step - accuracy: 0.2280 - loss: 3.8655 - val_accuracy: 0.1574 - val_loss: 7.5737\n"
     ]
    }
   ],
   "source": [
    "# Define your model\n",
    "model = Sequential()\n",
    "model.add(Embedding(total_words, 100)) \n",
    "model.add(Bidirectional(LSTM(150)))\n",
    "model.add(Dense(total_words, activation='softmax'))\n",
    "\n",
    "adam = Adam(learning_rate=0.01)\n",
    "model.compile(loss='categorical_crossentropy', optimizer=adam, metrics=['accuracy'])\n",
    "\n",
    "# Train the model\n",
    "history = model.fit(X_train_temp, y_train_temp, epochs=10, validation_data=(X_val, y_val), verbose=1)"
   ]
  },
  {
   "cell_type": "markdown",
   "id": "ffc24e17-d9cb-4c00-86f6-4a3722b652a2",
   "metadata": {},
   "source": [
    "Save Models (Weights and biases)"
   ]
  },
  {
   "cell_type": "code",
   "execution_count": 55,
   "id": "23cb3a72-de73-4bf7-8ff8-5893b2e7ad34",
   "metadata": {},
   "outputs": [],
   "source": [
    "# Save model architecture as JSON file\n",
    "from tensorflow.keras.models import model_from_json\n",
    "\n",
    "model_json = model.to_json()\n",
    "with open(\"lstm_model.json\", \"w\") as json_file:\n",
    "    json_file.write(model_json)"
   ]
  },
  {
   "cell_type": "code",
   "execution_count": 56,
   "id": "3c6644b4-13ae-4872-a318-eeec5207f2e6",
   "metadata": {},
   "outputs": [
    {
     "name": "stderr",
     "output_type": "stream",
     "text": [
      "WARNING:absl:You are saving your model as an HDF5 file via `model.save()` or `keras.saving.save_model(model)`. This file format is considered legacy. We recommend using instead the native Keras format, e.g. `model.save('my_model.keras')` or `keras.saving.save_model(model, 'my_model.keras')`. \n"
     ]
    },
    {
     "name": "stdout",
     "output_type": "stream",
     "text": [
      "Model architecture loaded successfully from JSON file.\n"
     ]
    }
   ],
   "source": [
    "# Load model architecture from JSON file\n",
    "from tensorflow.keras.models import model_from_json\n",
    "\n",
    "with open(\"lstm_model.json\", \"r\") as json_file:\n",
    "    loaded_model_json = json_file.read()\n",
    "\n",
    "# # Create model from loaded architecture\n",
    "loaded_model = model_from_json(loaded_model_json)\n",
    "\n",
    "print(\"Model architecture loaded successfully from JSON file.\")\n",
    "\n",
    "\n",
    "# 7. Save your trained model  <--- THIS IS THE KEY STEP\n",
    "model.save('my_language_model.h5')  # Save it to a file!"
   ]
  },
  {
   "cell_type": "code",
   "execution_count": 57,
   "id": "19bbc21a-3faf-40f4-bc71-4525c7aa2821",
   "metadata": {},
   "outputs": [],
   "source": [
    "import matplotlib.pyplot as plt\n",
    "import seaborn as sns\n",
    "from sklearn.metrics import confusion_matrix"
   ]
  },
  {
   "cell_type": "code",
   "execution_count": 58,
   "id": "751c32bb-a2aa-4066-a1f5-9754652ca8d5",
   "metadata": {},
   "outputs": [
    {
     "data": {
      "image/png": "[encoded data removed]",
      "text/plain": [
       "<Figure size 640x480 with 1 Axes>"
      ]
     },
     "metadata": {},
     "output_type": "display_data"
    },
    {
     "data": {
      "image/png": "[encoded data removed]",
      "text/plain": [
       "<Figure size 640x480 with 1 Axes>"
      ]
     },
     "metadata": {},
     "output_type": "display_data"
    }
   ],
   "source": [
    "# Plot Loss\n",
    "plt.plot(history.history['loss'], label='Training Loss')\n",
    "plt.plot(history.history['val_loss'], label='Validation Loss')\n",
    "plt.title('Training and Validation Loss')\n",
    "plt.xlabel('Epochs')\n",
    "plt.ylabel('Loss')\n",
    "plt.legend()\n",
    "plt.show()\n",
    "\n",
    "# Plot Accuracy\n",
    "plt.plot(history.history['accuracy'], label='Training Accuracy')\n",
    "plt.plot(history.history['val_accuracy'], label='Validation Accuracy')\n",
    "plt.title('Training and Validation Accuracy')\n",
    "plt.xlabel('Epochs')\n",
    "plt.ylabel('Accuracy')\n",
    "plt.legend()\n",
    "plt.show()"
   ]
  },
  {
   "cell_type": "code",
   "execution_count": 59,
   "id": "ac7652db",
   "metadata": {},
   "outputs": [
    {
     "name": "stdout",
     "output_type": "stream",
     "text": [
      "Tokenizer successfully saved to: C:\\Users\\nkavi\\OneDrive\\Desktop\\play~tts\\tokenizer.pickle\n"
     ]
    }
   ],
   "source": [
    "import pickle\n",
    "tokenizer_file_path = r\"C:\\Users\\nkavi\\OneDrive\\Desktop\\play~tts\\tokenizer.pickle\"\n",
    "try:\n",
    "    \n",
    "    pickle.dump(tokenizer,open(tokenizer_file_path,'wb'))\n",
    "    print(f\"Tokenizer successfully saved to: {tokenizer_file_path}\")  # Confirm success\n",
    "except Exception as e:\n",
    "    print(f\"Error saving tokenizer: {e}\")  # Print any error message\n",
    "    # Handle the error (e.g., exit, raise an exception)"
   ]
  },
  {
   "cell_type": "code",
   "execution_count": null,
   "id": "43ba757e",
   "metadata": {},
   "outputs": [
    {
     "name": "stdout",
     "output_type": "stream",
     "text": [
      "pickle.load returned: None\n",
      "ERROR: pickle.load returned None!\n"
     ]
    }
   ],
   "source": [
    "'''if not os.path.exists(tokenizer_file_path):\n",
    "    raise FileNotFoundError(f\"Tokenizer file not found at: {tokenizer_file_path}\")\n",
    "with open(tokenizer_file_path, 'rb') as handle:\n",
    "    tokenizer = pickle.load(handle)\n",
    "print(f\"pickle.load returned: {tokenizer}\") # Debug\n",
    "if tokenizer is None:\n",
    "    print(\"ERROR: pickle.load returned None!\")'''"
   ]
  },
  {
   "cell_type": "markdown",
   "id": "c2b1de16",
   "metadata": {},
   "source": [
    "code to make the tokenizer and loading the model"
   ]
  },
  {
   "cell_type": "code",
   "execution_count": 60,
   "id": "23f6e7fd",
   "metadata": {},
   "outputs": [
    {
     "name": "stdout",
     "output_type": "stream",
     "text": [
      "Attempting to load tokenizer from: C:\\Users\\nkavi\\OneDrive\\Desktop\\play~tts\\tokenizer.pickle\n",
      "pickle.load returned: <keras.src.legacy.preprocessing.text.Tokenizer object at 0x000001A5BDA8BFE0>\n",
      "Model architecture, weights, and tokenizer loaded successfully.\n",
      "Tokenizer: <keras.src.legacy.preprocessing.text.Tokenizer object at 0x000001A5BDA8BFE0>\n",
      "Max Sequence Length: 25\n"
     ]
    }
   ],
   "source": [
    "from tensorflow.keras.models import model_from_json, load_model\n",
    "import pickle\n",
    "\n",
    "# --- Load model weights and other components if architecture loaded successfully ---\n",
    "if loaded_model is not None:\n",
    "    try:\n",
    "        # Load the model weights from the .h5 file\n",
    "        loaded_model.load_weights('my_language_model.h5')  # Load the weights into the loaded model\n",
    "        # Load the tokenizer\n",
    "        tokenizer_file_path = r'C:\\Users\\nkavi\\OneDrive\\Desktop\\play~tts\\tokenizer.pickle'\n",
    "        print(f\"Attempting to load tokenizer from: {tokenizer_file_path}\")  # Debug\n",
    "        if not os.path.exists(tokenizer_file_path):\n",
    "            raise FileNotFoundError(f\"Tokenizer file not found at: {tokenizer_file_path}\")\n",
    "        with open(tokenizer_file_path, 'rb') as handle:\n",
    "            tokenizer = pickle.load(handle)\n",
    "        print(f\"pickle.load returned: {tokenizer}\") # Debug\n",
    "        if tokenizer is None:\n",
    "            print(\"ERROR: pickle.load returned None!\") #IMPORTANT\n",
    "     \n",
    "        max_sequence_len = 25\n",
    "        print(\"Model architecture, weights, and tokenizer loaded successfully.\")\n",
    "    except Exception as e:\n",
    "        print(f\"Error loading model weights or tokenizer: {e}\")\n",
    "        # Optionally, you could set loaded_model = None here if loading weights fails\n",
    "        #  depending on how you want your program to handle this scenario.\n",
    "        tokenizer = None\n",
    "        max_sequence_len = None\n",
    "else:\n",
    "  tokenizer = None\n",
    "  max_sequence_len = None\n",
    "print(f\"Tokenizer: {tokenizer}\")\n",
    "print(f\"Max Sequence Length: {max_sequence_len}\")"
   ]
  },
  {
   "cell_type": "markdown",
   "id": "7ab9c127-c56f-4cd1-b2d9-eb46d3408f40",
   "metadata": {},
   "source": [
    "Inferences"
   ]
  },
  {
   "cell_type": "code",
   "execution_count": 61,
   "id": "18f6e241-45a7-4663-93a9-81fa7d21f348",
   "metadata": {},
   "outputs": [],
   "source": [
    "def predict_top_five_words(model, tokenizer, seed_text):\n",
    "    token_list = tokenizer.texts_to_sequences([seed_text])[0]\n",
    "    token_list = pad_sequences([token_list], maxlen=max_sequence_len-1, padding='pre')\n",
    "    predicted = model.predict(token_list, verbose=0)\n",
    "    top_five_indexes = np.argsort(predicted[0])[::-1][:5]\n",
    "    top_five_words = []\n",
    "    for index in top_five_indexes:\n",
    "        for word, idx in tokenizer.word_index.items():\n",
    "            if idx == index:\n",
    "                top_five_words.append(word)\n",
    "                break\n",
    "    return top_five_words"
   ]
  },
  {
   "cell_type": "markdown",
   "id": "29de2619-62cc-48af-b27e-11043434302a",
   "metadata": {},
   "source": [
    "from IPython.display import HTML\n",
    "\n",
    "def predict_top_five_words(model, tokenizer, seed_text):\n",
    "    token_list = tokenizer.texts_to_sequences([seed_text])[0]\n",
    "    token_list = pad_sequences([token_list], maxlen=max_sequence_len-1, padding='pre')\n",
    "    predicted = model.predict(token_list, verbose=0)\n",
    "    top_five_indexes = np.argsort(predicted[0])[::-1][:5]\n",
    "    top_five_words = []\n",
    "    for index in top_five_indexes:\n",
    "        for word, idx in tokenizer.word_index.items():\n",
    "            if idx == index:\n",
    "                top_five_words.append(word)\n",
    "                break\n",
    "    return top_five_words\n",
    "\n",
    "def predict_and_display_top_five_words(seed_text, model, tokenizer):\n",
    "    top_five_words = predict_top_five_words(model, tokenizer, seed_text)\n",
    "    heading_app = f\"<h1>Sentence AutoCompletion App With Five Outputs</h1>\"\n",
    "    output_text = f\"<ul>{''.join([f'<li>{seed_text} {word}</li>' for word in top_five_words])}</ul>\"\n",
    "    javascript_code = f\"\"\"\n",
    "    <script>\n",
    "        var newWindow = window.open(\"\", \"_blank\");\n",
    "        newWindow.document.write('<html><head><title>Top Five Words</title></head><body>{heading_app} <br> <hr> {output_text}</body></html>');\n",
    "    </script>\n",
    "    \"\"\"\n",
    "    return HTML(javascript_code)"
   ]
  },
  {
   "cell_type": "code",
   "execution_count": 80,
   "id": "3fd4bf0c-db3b-41c8-96d4-3581fc35dd1f",
   "metadata": {},
   "outputs": [
    {
     "name": "stderr",
     "output_type": "stream",
     "text": [
      "WARNING:absl:Compiled the loaded model, but the compiled metrics have yet to be built. `model.compile_metrics` will be empty until you train or evaluate the model.\n"
     ]
    },
    {
     "name": "stdout",
     "output_type": "stream",
     "text": [
      "predict_top_five_words called with seed_text: 'h'\n",
      "top_five_words: ['interest', 'the', 'and', 'jest', 'complexion']\n",
      "predict_top_five_words called with seed_text: 'hi'\n",
      "top_five_words: ['interest', 'the', 'and', 'jest', 'complexion']\n",
      "predict_top_five_words called with seed_text: 'hi'\n",
      "top_five_words: ['interest', 'the', 'and', 'jest', 'complexion']\n",
      "predict_top_five_words called with seed_text: 'hi b'\n",
      "top_five_words: ['interest', 'the', 'complexion', 'jest', 'shadowy']\n",
      "predict_top_five_words called with seed_text: 'hi ba'\n",
      "top_five_words: ['interest', 'the', 'complexion', 'jest', 'shadowy']\n",
      "predict_top_five_words called with seed_text: 'hi bab'\n",
      "top_five_words: ['interest', 'the', 'complexion', 'jest', 'shadowy']\n",
      "predict_top_five_words called with seed_text: 'hi baby'\n",
      "top_five_words: ['and', 'as', 'no', 'was', 'in']\n",
      "predict_top_five_words called with seed_text: 'hi baby'\n",
      "top_five_words: ['and', 'as', 'no', 'was', 'in']\n",
      "predict_top_five_words called with seed_text: 'hi baby  was'\n",
      "top_five_words: ['not', 'the', 'in', 'a', 'still']\n",
      "predict_top_five_words called with seed_text: 'hi baby  was'\n",
      "top_five_words: ['not', 'the', 'in', 'a', 'still']\n",
      "predict_top_five_words called with seed_text: 'hi baby  was s'\n",
      "top_five_words: ['to', 'you', 'it', 'as', 'for']\n",
      "predict_top_five_words called with seed_text: 'hi baby  was so'\n",
      "top_five_words: ['low', 'very', 'that', 'it', 'busy']\n",
      "predict_top_five_words called with seed_text: 'hi baby  was so'\n",
      "top_five_words: ['low', 'very', 'that', 'it', 'busy']\n",
      "predict_top_five_words called with seed_text: 'hi baby  was so t'\n",
      "top_five_words: ['hustle', 'gittin', 'git', 'swirling', 'move']\n",
      "predict_top_five_words called with seed_text: 'hi baby  was so ti'\n",
      "top_five_words: ['solid', 'generously', 'fear', 'ideas', 'the']\n",
      "predict_top_five_words called with seed_text: 'hi baby  was so tir'\n",
      "top_five_words: ['solid', 'generously', 'fear', 'ideas', 'the']\n",
      "predict_top_five_words called with seed_text: 'hi baby  was so tire'\n",
      "top_five_words: ['troubles', 'the', 'strike', 'what', 'a']\n",
      "predict_top_five_words called with seed_text: 'hi baby  was so tired'\n",
      "top_five_words: ['as', 'in', 'at', 'beyond', 'but']\n",
      "predict_top_five_words called with seed_text: 'hi baby  was so tired'\n",
      "top_five_words: ['as', 'in', 'at', 'beyond', 'but']\n",
      "predict_top_five_words called with seed_text: 'hi baby  was so tired'\n",
      "top_five_words: ['as', 'in', 'at', 'beyond', 'but']\n",
      "predict_top_five_words called with seed_text: 'hi baby  was  as'\n",
      "top_five_words: ['he', 'the', 'a', 'if', 'they']\n",
      "predict_top_five_words called with seed_text: 'hi baby  was  as'\n",
      "top_five_words: ['he', 'the', 'a', 'if', 'they']\n",
      "predict_top_five_words called with seed_text: 'hi baby  was  as  the'\n",
      "top_five_words: ['submarine', 'project', 'advance', 'electric', 'young']\n",
      "predict_top_five_words called with seed_text: 'hi baby  was  as  the'\n",
      "top_five_words: ['submarine', 'project', 'advance', 'electric', 'young']\n",
      "predict_top_five_words called with seed_text: 'hi baby  was  as  the  submarine'\n",
      "top_five_words: ['was', 'agent', 'sheered', 'shivered', 'and']\n",
      "predict_top_five_words called with seed_text: 'hi baby  was  as  the  submarine'\n",
      "top_five_words: ['was', 'agent', 'sheered', 'shivered', 'and']\n",
      "predict_top_five_words called with seed_text: 'hi baby  was  as  the  submarine'\n",
      "top_five_words: ['was', 'agent', 'sheered', 'shivered', 'and']\n",
      "predict_top_five_words called with seed_text: 'hi baby  was  as  the  submarine'\n",
      "top_five_words: ['was', 'agent', 'sheered', 'shivered', 'and']\n",
      "predict_top_five_words called with seed_text: 'hi baby  was  as  the  submarine'\n",
      "top_five_words: ['was', 'agent', 'sheered', 'shivered', 'and']\n",
      "predict_top_five_words called with seed_text: 'hi baby  was  as  the  submarine'\n",
      "top_five_words: ['was', 'agent', 'sheered', 'shivered', 'and']\n"
     ]
    },
    {
     "ename": "KeyboardInterrupt",
     "evalue": "",
     "output_type": "error",
     "traceback": [
      "\u001b[1;31m---------------------------------------------------------------------------\u001b[0m",
      "\u001b[1;31mKeyboardInterrupt\u001b[0m                         Traceback (most recent call last)",
      "Cell \u001b[1;32mIn[80], line 129\u001b[0m\n\u001b[0;32m    126\u001b[0m \u001b[38;5;66;03m# Initial call to display predictions (in case there's initial text)\u001b[39;00m\n\u001b[0;32m    127\u001b[0m show_predictions()\n\u001b[1;32m--> 129\u001b[0m window\u001b[38;5;241m.\u001b[39mmainloop()\n",
      "File \u001b[1;32mc:\\Users\\nkavi\\anaconda3\\Lib\\tkinter\\__init__.py:1505\u001b[0m, in \u001b[0;36mMisc.mainloop\u001b[1;34m(self, n)\u001b[0m\n\u001b[0;32m   1503\u001b[0m \u001b[38;5;28;01mdef\u001b[39;00m \u001b[38;5;21mmainloop\u001b[39m(\u001b[38;5;28mself\u001b[39m, n\u001b[38;5;241m=\u001b[39m\u001b[38;5;241m0\u001b[39m):\n\u001b[0;32m   1504\u001b[0m \u001b[38;5;250m    \u001b[39m\u001b[38;5;124;03m\"\"\"Call the mainloop of Tk.\"\"\"\u001b[39;00m\n\u001b[1;32m-> 1505\u001b[0m     \u001b[38;5;28mself\u001b[39m\u001b[38;5;241m.\u001b[39mtk\u001b[38;5;241m.\u001b[39mmainloop(n)\n",
      "\u001b[1;31mKeyboardInterrupt\u001b[0m: "
     ]
    }
   ],
   "source": [
    "import tkinter as tk\n",
    "from tkinter import ttk\n",
    "from tensorflow.keras.models import load_model\n",
    "from tensorflow.keras.preprocessing.sequence import pad_sequences\n",
    "import numpy as np\n",
    "import pickle\n",
    "import os\n",
    "from tkinter import Tk, scrolledtext, Button, Frame,Toplevel, END, INSERT\n",
    "\n",
    "try:\n",
    "    # --- Load your trained model and tokenizer ---\n",
    "    model = load_model('my_language_model.h5')  # replace with your actual model file\n",
    "    with open('tokenizer.pickle', 'rb') as handle:\n",
    "       tokenizer = pickle.load(handle)\n",
    "    max_sequence_len = 25  # replace with the actual value used during training\n",
    "except ImportError:\n",
    "    print(\"Error: TensorFlow and/or pickle are not installed. Please install them to run this application.\")\n",
    "    model = None\n",
    "    tokenizer = None\n",
    "    max_sequence_len = 0\n",
    "except FileNotFoundError:\n",
    "    print(\"Error: Model or tokenizer file not found. Please ensure the paths are correct.\")\n",
    "    model = None\n",
    "    tokenizer = None\n",
    "    max_sequence_len = 0 \n",
    "# --- old Prediction Function ---\n",
    "def predict_top_five_words(model, tokenizer, seed_text, max_sequence_len):\n",
    "    print(f\"predict_top_five_words called with seed_text: '{seed_text}'\")\n",
    "    if model is None:\n",
    "        print(\"ERROR: Model is None in predict_top_five_words!\")\n",
    "        return []  # Important: Return an empty list if model is None\n",
    "    token_list = tokenizer.texts_to_sequences([seed_text])[0]\n",
    "    token_list = pad_sequences([token_list], maxlen=max_sequence_len-1, padding='pre')\n",
    "    predicted = model.predict(token_list, verbose=0)\n",
    "    top_five_indexes = np.argsort(predicted[0])[::-1][:5]\n",
    "    top_five_words = []\n",
    "    for index in top_five_indexes:\n",
    "        for word, idx in tokenizer.word_index.items():\n",
    "            if idx == index:\n",
    "                top_five_words.append(word)\n",
    "                break\n",
    "    print(f\"top_five_words: {top_five_words}\")\n",
    "    return top_five_words\n",
    "\n",
    "def show_predictions(event=None):\n",
    "    if model is None or tokenizer is None:\n",
    "        return\n",
    "\n",
    "    current_text = text_area.get(\"1.0\", tk.END).strip()\n",
    "    if not current_text:\n",
    "        hide_predictions()\n",
    "        return\n",
    "\n",
    "    cursor_index = text_area.index(tk.INSERT)\n",
    "    line, char = map(int,cursor_index.split('.'))\n",
    "    prefix_text = text_area.get(f\"{line}.0\", cursor_index).strip()\n",
    "\n",
    "    if prefix_text:\n",
    "        top_words = predict_top_five_words(model, tokenizer, prefix_text, max_sequence_len)\n",
    "        display_floating_predictions(top_words, cursor_index)\n",
    "    else:\n",
    "        hide_predictions()\n",
    "\n",
    "\n",
    "def add_word(word):\n",
    "    cursor_index_before_insert = text_area.index(tk.INSERT)\n",
    "    text_area.insert(cursor_index_before_insert, f\" {word}\")\n",
    "\n",
    "    # Calculate the new cursor position\n",
    "    line, char = map(int, cursor_index_before_insert.split('.'))\n",
    "    new_char = char + len(word) + 1\n",
    "    text_area.mark_set(tk.INSERT, f\"{line}.{new_char}\")\n",
    "    text_area.see(tk.INSERT)  # Ensure the inserted text is visible\n",
    "\n",
    "    window.after(100, show_predictions) # Delay prediction update\n",
    "    hide_predictions() # Hide the floating window after selection\n",
    "\n",
    "floating_predictions_window = None\n",
    "\n",
    "def display_floating_predictions(words, cursor_index):\n",
    "    global floating_predictions_window\n",
    "\n",
    "    hide_predictions() # Hide any existing prediction window\n",
    "\n",
    "    if words:\n",
    "        floating_predictions_window = Toplevel(window)\n",
    "        floating_predictions_window.transient(window) # Make it dependent on the main window\n",
    "        # floating_predictions_window.grab_set() # Temporarily remove grab_set\n",
    "\n",
    "        # Get cursor coordinates\n",
    "        x, y, _, _ = text_area.bbox(cursor_index)\n",
    "        text_x, text_y = text_area.winfo_rootx(), text_area.winfo_rooty()\n",
    "        prediction_x = text_x + x\n",
    "        prediction_y = text_y + y + 20 # Adjust vertical position\n",
    "\n",
    "        floating_predictions_window.geometry(f\"+{prediction_x}+{prediction_y}\")\n",
    "        floating_predictions_window.overrideredirect(True) # Remove window decorations\n",
    "\n",
    "        for i, word in enumerate(words):\n",
    "            button = Button(floating_predictions_window, text=word, command=lambda w=word: add_word(w))\n",
    "            button.pack(side=\"left\", padx=2, pady=2)\n",
    "\n",
    "        floating_predictions_window.deiconify() # Ensure the window is visible\n",
    "        floating_predictions_window.lift() # Bring it to the front\n",
    "\n",
    "def hide_predictions(event=None):\n",
    "    global floating_predictions_window\n",
    "    if floating_predictions_window:\n",
    "        floating_predictions_window.destroy()\n",
    "        floating_predictions_window = None\n",
    "\n",
    "# --- Main Application ---\n",
    "window = tk.Tk()\n",
    "window.title(\"Text Autocompletion\")\n",
    "\n",
    "text_area = scrolledtext.ScrolledText(window, height=10, width=50)\n",
    "text_area.grid(row=0, column=0, padx=10, pady=10, sticky=\"nsew\")\n",
    "window.grid_columnconfigure(0, weight=1)\n",
    "window.grid_rowconfigure(0, weight=1)\n",
    "\n",
    "# Bind text input event to show predictions\n",
    "text_area.bind(\"<KeyRelease>\", show_predictions)\n",
    "text_area.bind(\"<Button-1>\", show_predictions) # Update predictions on mouse click (cursor change)\n",
    "text_area.bind(\"<FocusOut>\", hide_predictions) # Hide predictions when focus leaves the text area\n",
    "\n",
    "# Initial call to display predictions (in case there's initial text)\n",
    "show_predictions()\n",
    "\n",
    "window.mainloop()\n",
    "\n"
   ]
  },
  {
   "cell_type": "code",
   "execution_count": 81,
   "id": "74c358be-9f8b-40c2-9f42-1c4024cc332a",
   "metadata": {},
   "outputs": [
    {
     "name": "stdout",
     "output_type": "stream",
     "text": [
      "predict_top_five_words called with seed_text: 'She is my'\n",
      "top_five_words: ['own', 'patchwork', 'firm', 'name', 'wife']\n",
      "\n",
      "Predictions for 'She is my':\n",
      "own\n",
      "patchwork\n",
      "firm\n",
      "name\n",
      "wife\n",
      "\n",
      "Model and tokenizer not loaded.  Cannot run test.\n"
     ]
    }
   ],
   "source": [
    "# Test the function\n",
    "seed_text = \"She is my\"\n",
    "if 'loaded_model' in globals() and 'tokenizer' in globals():  # check if loaded\n",
    "    predictions = predict_top_five_words(loaded_model, tokenizer, seed_text, max_sequence_len)\n",
    "    print(f\"\\nPredictions for '{seed_text}':\")\n",
    "    for sentence in predictions:\n",
    "        print(sentence)\n",
    "    else:\n",
    "        print(\"\\nModel and tokenizer not loaded.  Cannot run test.\")\n"
   ]
  },
  {
   "cell_type": "code",
   "execution_count": null,
   "id": "447c794b-e541-4b22-91c9-208fe8335b64",
   "metadata": {},
   "outputs": [],
   "source": []
  },
  {
   "cell_type": "code",
   "execution_count": null,
   "id": "a69ad37d-bef2-414f-9c4f-766f69916aa1",
   "metadata": {},
   "outputs": [],
   "source": []
  },
  {
   "cell_type": "code",
   "execution_count": null,
   "id": "6a03572b-a1b6-4b8f-b684-5c8b2a6bd756",
   "metadata": {},
   "outputs": [],
   "source": []
  },
  {
   "cell_type": "code",
   "execution_count": null,
   "id": "d297b776-6b21-4042-aa9b-7cd93bdfa1e1",
   "metadata": {},
   "outputs": [],
   "source": []
  },
  {
   "cell_type": "code",
   "execution_count": null,
   "id": "4f21a87c-6156-4a93-9f9a-d7b22f5efdf1",
   "metadata": {},
   "outputs": [],
   "source": []
  },
  {
   "cell_type": "code",
   "execution_count": null,
   "id": "e25f0ee2-0281-458d-814a-d6d779586f44",
   "metadata": {},
   "outputs": [],
   "source": []
  },
  {
   "cell_type": "code",
   "execution_count": null,
   "id": "c745e40a-7b34-4c60-9794-1417a905d8e5",
   "metadata": {},
   "outputs": [],
   "source": []
  },
  {
   "cell_type": "code",
   "execution_count": null,
   "id": "ef8fe096-accd-49c5-8e81-34f9dd7ef871",
   "metadata": {},
   "outputs": [],
   "source": []
  },
  {
   "cell_type": "code",
   "execution_count": null,
   "id": "7db53cb7-515c-4f9c-8d66-03f68493046c",
   "metadata": {},
   "outputs": [],
   "source": []
  }
 ],
 "metadata": {
  "kernelspec": {
   "display_name": "base",
   "language": "python",
   "name": "python3"
  },
  "language_info": {
   "codemirror_mode": {
    "name": "ipython",
    "version": 3
   },
   "file_extension": ".py",
   "mimetype": "text/x-python",
   "name": "python",
   "nbconvert_exporter": "python",
   "pygments_lexer": "ipython3",
   "version": "3.12.7"
  }
 },
 "nbformat": 4,
 "nbformat_minor": 5
}
